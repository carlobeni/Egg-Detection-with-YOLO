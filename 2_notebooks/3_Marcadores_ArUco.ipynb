{
 "cells": [
  {
   "cell_type": "markdown",
   "id": "17234bf4",
   "metadata": {},
   "source": [
    "### Instalación de las Dependencias Necesarias"
   ]
  },
  {
   "cell_type": "code",
   "execution_count": null,
   "id": "bf9279d6",
   "metadata": {
    "vscode": {
     "languageId": "bat"
    }
   },
   "outputs": [],
   "source": [
    "pip install numpy"
   ]
  },
  {
   "cell_type": "markdown",
   "id": "545ef23a",
   "metadata": {},
   "source": [
    "Observación: si tiene instalado otra versión de opencv que no tiene soporte para marcadores ArUco, primero se debe desinstalar la misma, caso contrario se puede omitir la primera linea."
   ]
  },
  {
   "cell_type": "code",
   "execution_count": null,
   "id": "d8fc4498",
   "metadata": {
    "vscode": {
     "languageId": "bat"
    }
   },
   "outputs": [],
   "source": [
    "pip uninstall opencv-python -y   \n",
    "pip install opencv-contrib-python"
   ]
  },
  {
   "cell_type": "markdown",
   "id": "45c3125d",
   "metadata": {},
   "source": [
    "### 1. Generar los Marcadores\n",
    "El siguiente codigo genera los maracadores ArUco segun el Id asigando y lo gurada en un archivo .png"
   ]
  },
  {
   "cell_type": "code",
   "execution_count": null,
   "id": "1c388fa7",
   "metadata": {},
   "outputs": [],
   "source": [
    "import cv2\n",
    "import cv2.aruco as aruco\n",
    "\n",
    "# Diccionario ArUco\n",
    "aruco_dict = aruco.getPredefinedDictionary(aruco.DICT_4X4_50)\n",
    "\n",
    "# Generar e imprimir 4 marcadores\n",
    "for id in range(4):\n",
    "    marker = aruco.generateImageMarker(aruco_dict, id, 400)\n",
    "    filename = f\"aruco_{id}.png\"\n",
    "    cv2.imwrite(filename, marker)\n",
    "    print(f\"Guardado: {filename}\")"
   ]
  },
  {
   "cell_type": "markdown",
   "id": "a97ea4c3",
   "metadata": {},
   "source": [
    "### 1. Probar los Marcadores\n",
    "El siguiente código detecta los marcadores y le asigna su coordenada correspondiente (Las coordenadas se asignan al principio del código)"
   ]
  },
  {
   "cell_type": "code",
   "execution_count": null,
   "id": "f250f31e",
   "metadata": {},
   "outputs": [],
   "source": [
    "import cv2\n",
    "import numpy as np\n",
    "\n",
    "# Diccionario ArUco\n",
    "aruco_dict = cv2.aruco.getPredefinedDictionary(cv2.aruco.DICT_4X4_50)\n",
    "aruco_params = cv2.aruco.DetectorParameters()\n",
    "\n",
    "# Coordenadas reales (cm) asociadas a cada ID\n",
    "id_coord_map = {\n",
    "    0: [0, 0],\n",
    "    1: [30, 0],\n",
    "    2: [30, 30],\n",
    "    3: [0, 30]\n",
    "}\n",
    "\n",
    "# Cámara\n",
    "cap = cv2.VideoCapture(1)\n",
    "\n",
    "while True:\n",
    "    ret, frame = cap.read()\n",
    "    if not ret:\n",
    "        break\n",
    "\n",
    "    # Detectar marcadores\n",
    "    corners, ids, _ = cv2.aruco.detectMarkers(frame, aruco_dict, parameters=aruco_params)\n",
    "\n",
    "    if ids is not None:\n",
    "        for i, id in enumerate(ids.flatten()):\n",
    "            if id in id_coord_map:\n",
    "                # Centro del marcador\n",
    "                c = corners[i][0]\n",
    "                center_x = int(c[:, 0].mean())\n",
    "                center_y = int(c[:, 1].mean())\n",
    "\n",
    "                # Coordenadas reales\n",
    "                coord = id_coord_map[id]\n",
    "                coord_text = f\"({coord[0]}cm, {coord[1]}cm)\"\n",
    "\n",
    "                # Dibujar centro y texto\n",
    "                cv2.circle(frame, (center_x, center_y), 5, (0, 255, 0), -1)\n",
    "                cv2.putText(frame, coord_text, (center_x + 10, center_y),\n",
    "                            cv2.FONT_HERSHEY_SIMPLEX, 0.5, (255, 255, 255), 2)\n",
    "\n",
    "        # Dibujar el borde de los marcadores\n",
    "        #cv2.aruco.drawDetectedMarkers(frame, corners, ids)\n",
    "        cv2.aruco.drawDetectedMarkers(frame, corners)\n",
    "\n",
    "    cv2.imshow(\"Marcadores ArUco con coordenadas reales\", frame)\n",
    "\n",
    "    if cv2.waitKey(1) & 0xFF == ord('q'):\n",
    "        break\n",
    "\n",
    "cap.release()\n",
    "cv2.destroyAllWindows()"
   ]
  }
 ],
 "metadata": {
  "language_info": {
   "name": "python"
  }
 },
 "nbformat": 4,
 "nbformat_minor": 5
}
