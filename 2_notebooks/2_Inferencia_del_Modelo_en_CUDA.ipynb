{
 "cells": [
  {
   "cell_type": "markdown",
   "id": "340271fb",
   "metadata": {},
   "source": [
    "Inferencia del modelo entrenado con YOLOv8s, 310 epocas. "
   ]
  },
  {
   "cell_type": "markdown",
   "id": "4e3cd534",
   "metadata": {},
   "source": [
    "### Instalación de las Dependencias Necesarias"
   ]
  },
  {
   "cell_type": "markdown",
   "id": "86b4bfe5",
   "metadata": {},
   "source": [
    "Para modelos entrenados con YOLOv8"
   ]
  },
  {
   "cell_type": "code",
   "execution_count": null,
   "id": "532ae1bb",
   "metadata": {
    "vscode": {
     "languageId": "bat"
    }
   },
   "outputs": [],
   "source": [
    "pip install ultralytics"
   ]
  },
  {
   "cell_type": "markdown",
   "id": "98d81b45",
   "metadata": {},
   "source": [
    "Comprobar que la PC tenga cuda y que version de la misma tiene"
   ]
  },
  {
   "cell_type": "code",
   "execution_count": null,
   "id": "62ecebc4",
   "metadata": {
    "vscode": {
     "languageId": "bat"
    }
   },
   "outputs": [],
   "source": [
    "nvidia-smi"
   ]
  },
  {
   "cell_type": "markdown",
   "id": "922e8c9c",
   "metadata": {},
   "source": [
    "Si se tiene una version de Pytorch que no tenga como soporte para GPU se debe desinstalar (Si no se tiene ninguna version de Pytorch ignorar la siguiente linea)"
   ]
  },
  {
   "cell_type": "code",
   "execution_count": null,
   "id": "84ce2b12",
   "metadata": {
    "vscode": {
     "languageId": "bat"
    }
   },
   "outputs": [],
   "source": [
    "pip uninstall torch torchvision torchaudio"
   ]
  },
  {
   "cell_type": "markdown",
   "id": "47824e96",
   "metadata": {},
   "source": [
    "Instalar la version de Pytorch correspondiente al cuda de la PC"
   ]
  },
  {
   "cell_type": "code",
   "execution_count": null,
   "id": "b1396d7d",
   "metadata": {
    "vscode": {
     "languageId": "bat"
    }
   },
   "outputs": [],
   "source": [
    "pip install torch torchvision torchaudio --index-url https://download.pytorch.org/whl/cu118\n"
   ]
  },
  {
   "cell_type": "markdown",
   "id": "654af484",
   "metadata": {},
   "source": [
    "### 1. Verificar si esta disponible la CUDA"
   ]
  },
  {
   "cell_type": "code",
   "execution_count": null,
   "id": "ad979599",
   "metadata": {},
   "outputs": [],
   "source": [
    "import torch\n",
    "print(\"¿CUDA disponible?:\", torch.cuda.is_available())\n",
    "print(\"Nombre de GPU:\", torch.cuda.get_device_name(0) if torch.cuda.is_available() else \"No GPU detectada\")\n",
    "print(\"Versión de CUDA utilizada por PyTorch:\", torch.version.cuda)\n",
    "print(\"Versión de PyTorch:\", torch.__version__)\n"
   ]
  },
  {
   "cell_type": "markdown",
   "id": "b7f18c5b",
   "metadata": {},
   "source": [
    "### 2. Probar la Inferencia del Modelo"
   ]
  },
  {
   "cell_type": "code",
   "execution_count": null,
   "id": "59a059f1",
   "metadata": {},
   "outputs": [],
   "source": [
    "from ultralytics import YOLO\n",
    "import cv2\n",
    "import torch\n",
    "\n",
    "# Verificar si hay GPU disponible\n",
    "device = 'cuda' if torch.cuda.is_available() else 'cpu'\n",
    "print(f\"Usando dispositivo: {device}\")\n",
    "\n",
    "# Cargar el modelo en la GPU\n",
    "model = YOLO(\"Modelito_v11_best.pt\")\n",
    "model.to(device)  # Mover el modelo explícitamente\n",
    "\n",
    "# Abrir la webcam\n",
    "cap = cv2.VideoCapture(0)\n",
    "\n",
    "while True:\n",
    "    ret, frame = cap.read()\n",
    "    if not ret:\n",
    "        break\n",
    "\n",
    "    # Hacer tracking en el frame capturado\n",
    "    results = model.track(\n",
    "        source=frame,\n",
    "        conf=0.5,\n",
    "        imgsz=640,  # <-- Forzar entrada a 640x640\n",
    "        persist=True,\n",
    "        stream=True,\n",
    "        tracker=\"bytetrack.yaml\",\n",
    "        device=device  # usar GPU\n",
    "    )\n",
    "\n",
    "    # Como stream=True, results es un generador\n",
    "    for result in results:\n",
    "        annotated_frame = result.plot()  # Frame anotado\n",
    "\n",
    "        # Dimensiones del frame\n",
    "        h, w = frame.shape[:2]\n",
    "\n",
    "        # Procesar cada box detectado\n",
    "        for box in result.boxes:\n",
    "            cls_id = int(box.cls[0])                     # ID de la clase\n",
    "            class_name = model.names[cls_id]             # Nombre de la clase\n",
    "            track_id = int(box.id[0]) if box.id is not None else -1  # ID de tracking\n",
    "\n",
    "            # Mostrar info de detección\n",
    "            print(f\"Track ID: {track_id} | Clase: {class_name}\")\n",
    "\n",
    "        # Mostrar el frame anotado\n",
    "        cv2.imshow(\"YOLOv8 Tracking\", annotated_frame)\n",
    "\n",
    "    if cv2.waitKey(1) & 0xFF == ord('q'):\n",
    "        break\n",
    "\n",
    "cap.release()\n",
    "cv2.destroyAllWindows()"
   ]
  }
 ],
 "metadata": {
  "language_info": {
   "name": "python"
  }
 },
 "nbformat": 4,
 "nbformat_minor": 5
}
